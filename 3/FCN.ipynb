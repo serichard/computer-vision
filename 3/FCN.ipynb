{
  "nbformat": 4,
  "nbformat_minor": 0,
  "metadata": {
    "accelerator": "GPU",
    "colab": {
      "name": "FCN.ipynb",
      "provenance": []
    },
    "kernelspec": {
      "display_name": "Python 3",
      "language": "python",
      "name": "python3"
    },
    "language_info": {
      "codemirror_mode": {
        "name": "ipython",
        "version": 3
      },
      "file_extension": ".py",
      "mimetype": "text/x-python",
      "name": "python",
      "nbconvert_exporter": "python",
      "pygments_lexer": "ipython3",
      "version": "3.8.8"
    }
  },
  "cells": [
    {
      "cell_type": "markdown",
      "metadata": {
        "id": "GOCExOi9crzE"
      },
      "source": [
        "![image.png](attachment:image.png)"
      ]
    },
    {
      "cell_type": "markdown",
      "metadata": {
        "id": "w0GfHzuOcrzO"
      },
      "source": [
        "![image.png](attachment:image.png)"
      ]
    },
    {
      "cell_type": "code",
      "metadata": {
        "id": "AijEvV9x8Cdo"
      },
      "source": [
        "import numpy as np\n",
        "import matplotlib.pyplot as plt\n",
        "import cv2\n",
        "import pandas as pd"
      ],
      "execution_count": 2,
      "outputs": []
    },
    {
      "cell_type": "code",
      "metadata": {
        "colab": {
          "base_uri": "https://localhost:8080/"
        },
        "id": "HVhOXU3CfiQw",
        "outputId": "75445495-4a48-4680-9dd5-e63032fcce75"
      },
      "source": [
        "from google.colab import drive\n",
        "drive.mount('/content/drive')"
      ],
      "execution_count": 1,
      "outputs": [
        {
          "output_type": "stream",
          "name": "stdout",
          "text": [
            "Mounted at /content/drive\n"
          ]
        }
      ]
    },
    {
      "cell_type": "code",
      "metadata": {
        "id": "c7cnkmpo8TM7"
      },
      "source": [
        "path = '/content/drive/MyDrive/'"
      ],
      "execution_count": 3,
      "outputs": []
    },
    {
      "cell_type": "code",
      "metadata": {
        "id": "7qTrGTQXL7p1"
      },
      "source": [
        "import os "
      ],
      "execution_count": 4,
      "outputs": []
    },
    {
      "cell_type": "code",
      "metadata": {
        "id": "B5Q_fNQPHU3Q"
      },
      "source": [
        "directory = '/content/drive/MyDrive/fish'\n",
        "train_files = []\n",
        "target_files = []\n",
        "fish_types = 'Black Sea Sprat'\n",
        "for file in os.listdir(os.path.join(directory, fish_types)):\n",
        "    train_files.append(os.path.join(directory, 'Black Sea Sprat', file))\n",
        "    target_files.append(os.path.join(directory,  'Black Sea Sprat GT', file))"
      ],
      "execution_count": 5,
      "outputs": []
    },
    {
      "cell_type": "code",
      "metadata": {
        "colab": {
          "base_uri": "https://localhost:8080/",
          "height": 285
        },
        "id": "x_lioPVbHU8W",
        "outputId": "d7f6c425-10d5-4448-9c68-2d11dca8f27a"
      },
      "source": [
        "df = pd.DataFrame({'img' : train_files, 'mask' : target_files})\n",
        "df.head()"
      ],
      "execution_count": 6,
      "outputs": [
        {
          "output_type": "execute_result",
          "data": {
            "text/html": [
              "<div>\n",
              "<style scoped>\n",
              "    .dataframe tbody tr th:only-of-type {\n",
              "        vertical-align: middle;\n",
              "    }\n",
              "\n",
              "    .dataframe tbody tr th {\n",
              "        vertical-align: top;\n",
              "    }\n",
              "\n",
              "    .dataframe thead th {\n",
              "        text-align: right;\n",
              "    }\n",
              "</style>\n",
              "<table border=\"1\" class=\"dataframe\">\n",
              "  <thead>\n",
              "    <tr style=\"text-align: right;\">\n",
              "      <th></th>\n",
              "      <th>img</th>\n",
              "      <th>mask</th>\n",
              "    </tr>\n",
              "  </thead>\n",
              "  <tbody>\n",
              "    <tr>\n",
              "      <th>0</th>\n",
              "      <td>/content/drive/MyDrive/fish/Black Sea Sprat/00...</td>\n",
              "      <td>/content/drive/MyDrive/fish/Black Sea Sprat GT...</td>\n",
              "    </tr>\n",
              "    <tr>\n",
              "      <th>1</th>\n",
              "      <td>/content/drive/MyDrive/fish/Black Sea Sprat/00...</td>\n",
              "      <td>/content/drive/MyDrive/fish/Black Sea Sprat GT...</td>\n",
              "    </tr>\n",
              "    <tr>\n",
              "      <th>2</th>\n",
              "      <td>/content/drive/MyDrive/fish/Black Sea Sprat/00...</td>\n",
              "      <td>/content/drive/MyDrive/fish/Black Sea Sprat GT...</td>\n",
              "    </tr>\n",
              "    <tr>\n",
              "      <th>3</th>\n",
              "      <td>/content/drive/MyDrive/fish/Black Sea Sprat/00...</td>\n",
              "      <td>/content/drive/MyDrive/fish/Black Sea Sprat GT...</td>\n",
              "    </tr>\n",
              "    <tr>\n",
              "      <th>4</th>\n",
              "      <td>/content/drive/MyDrive/fish/Black Sea Sprat/00...</td>\n",
              "      <td>/content/drive/MyDrive/fish/Black Sea Sprat GT...</td>\n",
              "    </tr>\n",
              "  </tbody>\n",
              "</table>\n",
              "</div>"
            ],
            "text/plain": [
              "                                                 img                                               mask\n",
              "0  /content/drive/MyDrive/fish/Black Sea Sprat/00...  /content/drive/MyDrive/fish/Black Sea Sprat GT...\n",
              "1  /content/drive/MyDrive/fish/Black Sea Sprat/00...  /content/drive/MyDrive/fish/Black Sea Sprat GT...\n",
              "2  /content/drive/MyDrive/fish/Black Sea Sprat/00...  /content/drive/MyDrive/fish/Black Sea Sprat GT...\n",
              "3  /content/drive/MyDrive/fish/Black Sea Sprat/00...  /content/drive/MyDrive/fish/Black Sea Sprat GT...\n",
              "4  /content/drive/MyDrive/fish/Black Sea Sprat/00...  /content/drive/MyDrive/fish/Black Sea Sprat GT..."
            ]
          },
          "metadata": {},
          "execution_count": 6
        }
      ]
    },
    {
      "cell_type": "code",
      "metadata": {
        "id": "tObGho77Iotq"
      },
      "source": [
        "df1 = pd.DataFrame()"
      ],
      "execution_count": 7,
      "outputs": []
    },
    {
      "cell_type": "code",
      "metadata": {
        "id": "SZPIDMWcMTtC"
      },
      "source": [
        "from tqdm import tqdm"
      ],
      "execution_count": 8,
      "outputs": []
    },
    {
      "cell_type": "code",
      "metadata": {
        "id": "OJH_zwxad6bs"
      },
      "source": [
        "df = df[:]"
      ],
      "execution_count": 9,
      "outputs": []
    },
    {
      "cell_type": "code",
      "metadata": {
        "colab": {
          "base_uri": "https://localhost:8080/",
          "height": 35
        },
        "id": "pfiOAl1ZMhCn",
        "outputId": "8ee56222-9033-4d2e-d2bf-405058cfda77"
      },
      "source": [
        "(df['img'][0])"
      ],
      "execution_count": 10,
      "outputs": [
        {
          "output_type": "execute_result",
          "data": {
            "application/vnd.google.colaboratory.intrinsic+json": {
              "type": "string"
            },
            "text/plain": [
              "'/content/drive/MyDrive/fish/Black Sea Sprat/00001.png'"
            ]
          },
          "metadata": {},
          "execution_count": 10
        }
      ]
    },
    {
      "cell_type": "code",
      "metadata": {
        "colab": {
          "base_uri": "https://localhost:8080/"
        },
        "id": "27UhVr0-HVCv",
        "outputId": "bc143b56-890a-4dd7-c951-09a1ac435162"
      },
      "source": [
        "img = []\n",
        "for ind in tqdm(range(len(df['img']))):\n",
        "    origImage = cv2.imread(df['img'][ind])\n",
        "    #origImage = cv2.cvtColor(origImage, cv2.COLOR_BGR2GRAY, )\n",
        "    img.append(origImage)\n",
        "df1['img'] = img"
      ],
      "execution_count": 11,
      "outputs": [
        {
          "output_type": "stream",
          "name": "stderr",
          "text": [
            "100%|██████████| 1000/1000 [07:35<00:00,  2.19it/s]\n"
          ]
        }
      ]
    },
    {
      "cell_type": "code",
      "metadata": {
        "colab": {
          "base_uri": "https://localhost:8080/",
          "height": 35
        },
        "id": "qp0qxreXdGxu",
        "outputId": "b4a67e27-d986-41c8-a8a0-1c81262645d8"
      },
      "source": [
        "(df['mask'][0])"
      ],
      "execution_count": 12,
      "outputs": [
        {
          "output_type": "execute_result",
          "data": {
            "application/vnd.google.colaboratory.intrinsic+json": {
              "type": "string"
            },
            "text/plain": [
              "'/content/drive/MyDrive/fish/Black Sea Sprat GT/00001.png'"
            ]
          },
          "metadata": {},
          "execution_count": 12
        }
      ]
    },
    {
      "cell_type": "code",
      "metadata": {
        "colab": {
          "base_uri": "https://localhost:8080/"
        },
        "id": "wnfMKC_0IH0Y",
        "outputId": "5e137a75-97f7-47fe-a9a3-47363ac08ca1"
      },
      "source": [
        "mask = []\n",
        "for ind in tqdm(range(len(df['mask']))):\n",
        "    origImage = cv2.imread(df['mask'][ind])\n",
        "    #print(origImage)\n",
        "    origImage = cv2.cvtColor(origImage, cv2.COLOR_BGR2GRAY, )\n",
        "    origImage = (origImage ) \n",
        "    mask.append(origImage**2)\n",
        "df1['mask'] = mask"
      ],
      "execution_count": 13,
      "outputs": [
        {
          "output_type": "stream",
          "name": "stderr",
          "text": [
            "100%|██████████| 1000/1000 [05:45<00:00,  2.89it/s]\n"
          ]
        }
      ]
    },
    {
      "cell_type": "code",
      "metadata": {
        "colab": {
          "base_uri": "https://localhost:8080/"
        },
        "id": "_rvmMP1kgjE9",
        "outputId": "3bbdd0b2-81f0-43ca-fd4a-8f8418393d90"
      },
      "source": [
        "mask[0]"
      ],
      "execution_count": 14,
      "outputs": [
        {
          "output_type": "execute_result",
          "data": {
            "text/plain": [
              "array([[0, 0, 0, ..., 0, 0, 0],\n",
              "       [0, 0, 0, ..., 0, 0, 0],\n",
              "       [0, 0, 0, ..., 0, 0, 0],\n",
              "       ...,\n",
              "       [0, 0, 0, ..., 0, 0, 0],\n",
              "       [0, 0, 0, ..., 0, 0, 0],\n",
              "       [0, 0, 0, ..., 0, 0, 0]], dtype=uint8)"
            ]
          },
          "metadata": {},
          "execution_count": 14
        }
      ]
    },
    {
      "cell_type": "code",
      "metadata": {
        "id": "zOSkyLJXALE2"
      },
      "source": [
        "def keras_generator(gen_df, batch_size):\n",
        "    while True:\n",
        "        x_batch = []\n",
        "        y_batch = []\n",
        "        np.random.seed(42)\n",
        "        for i in range(batch_size):\n",
        "            img, mask = gen_df.sample(1).values[0]\n",
        "            \n",
        "            img = cv2.resize(img, (256, 256))\n",
        "            mask = cv2.resize(mask, (256, 256))\n",
        "            mask =( mask > 0) **2\n",
        "            \n",
        "            x_batch += [img]\n",
        "            y_batch += [mask]\n",
        "\n",
        "        x_batch = np.array(x_batch) / 255.\n",
        "        y_batch = np.array(y_batch)\n",
        "\n",
        "        yield x_batch, np.expand_dims(y_batch, -1)"
      ],
      "execution_count": 15,
      "outputs": []
    },
    {
      "cell_type": "code",
      "metadata": {
        "colab": {
          "base_uri": "https://localhost:8080/"
        },
        "id": "YnXnhXVLnZSt",
        "outputId": "b50ba0ed-a9a1-4304-b8e5-f343909f23c3"
      },
      "source": [
        "mask[0]"
      ],
      "execution_count": 16,
      "outputs": [
        {
          "output_type": "execute_result",
          "data": {
            "text/plain": [
              "array([[0, 0, 0, ..., 0, 0, 0],\n",
              "       [0, 0, 0, ..., 0, 0, 0],\n",
              "       [0, 0, 0, ..., 0, 0, 0],\n",
              "       ...,\n",
              "       [0, 0, 0, ..., 0, 0, 0],\n",
              "       [0, 0, 0, ..., 0, 0, 0],\n",
              "       [0, 0, 0, ..., 0, 0, 0]], dtype=uint8)"
            ]
          },
          "metadata": {},
          "execution_count": 16
        }
      ]
    },
    {
      "cell_type": "code",
      "metadata": {
        "colab": {
          "base_uri": "https://localhost:8080/"
        },
        "id": "WIGaklqsfTup",
        "outputId": "06482f99-ec29-4439-b344-485dd65b89a3"
      },
      "source": [
        "df1.shape"
      ],
      "execution_count": 17,
      "outputs": [
        {
          "output_type": "execute_result",
          "data": {
            "text/plain": [
              "(1000, 2)"
            ]
          },
          "metadata": {},
          "execution_count": 17
        }
      ]
    },
    {
      "cell_type": "code",
      "metadata": {
        "id": "mXU1j2Kc6Fsk"
      },
      "source": [
        "df_train = df1[:800]\n",
        "df_val = df1[800:]"
      ],
      "execution_count": 18,
      "outputs": []
    },
    {
      "cell_type": "code",
      "metadata": {
        "id": "6Msy22Kf_RMN"
      },
      "source": [
        "for x, y in keras_generator(df_train, 16):\n",
        "    break"
      ],
      "execution_count": 19,
      "outputs": []
    },
    {
      "cell_type": "code",
      "metadata": {
        "id": "Kb1BkXRJn_ht"
      },
      "source": [
        ""
      ],
      "execution_count": null,
      "outputs": []
    },
    {
      "cell_type": "code",
      "metadata": {
        "colab": {
          "base_uri": "https://localhost:8080/"
        },
        "id": "H9AQdPOiAH9i",
        "outputId": "fd9b0b5b-8faf-4f8d-89c9-e776a75dd969"
      },
      "source": [
        "x.shape"
      ],
      "execution_count": 20,
      "outputs": [
        {
          "output_type": "execute_result",
          "data": {
            "text/plain": [
              "(16, 256, 256, 3)"
            ]
          },
          "metadata": {},
          "execution_count": 20
        }
      ]
    },
    {
      "cell_type": "code",
      "metadata": {
        "id": "1IEADOfcS8iw",
        "colab": {
          "base_uri": "https://localhost:8080/"
        },
        "outputId": "0460be8e-f18a-4bec-e84f-4e68e90d63b2"
      },
      "source": [
        "y[0][150]"
      ],
      "execution_count": 21,
      "outputs": [
        {
          "output_type": "execute_result",
          "data": {
            "text/plain": [
              "array([[0],\n",
              "       [0],\n",
              "       [0],\n",
              "       [0],\n",
              "       [0],\n",
              "       [0],\n",
              "       [0],\n",
              "       [0],\n",
              "       [0],\n",
              "       [0],\n",
              "       [0],\n",
              "       [0],\n",
              "       [0],\n",
              "       [0],\n",
              "       [0],\n",
              "       [0],\n",
              "       [0],\n",
              "       [0],\n",
              "       [0],\n",
              "       [0],\n",
              "       [0],\n",
              "       [0],\n",
              "       [0],\n",
              "       [0],\n",
              "       [0],\n",
              "       [0],\n",
              "       [0],\n",
              "       [0],\n",
              "       [0],\n",
              "       [0],\n",
              "       [0],\n",
              "       [0],\n",
              "       [0],\n",
              "       [0],\n",
              "       [0],\n",
              "       [0],\n",
              "       [0],\n",
              "       [0],\n",
              "       [0],\n",
              "       [0],\n",
              "       [0],\n",
              "       [0],\n",
              "       [0],\n",
              "       [0],\n",
              "       [0],\n",
              "       [0],\n",
              "       [0],\n",
              "       [0],\n",
              "       [0],\n",
              "       [0],\n",
              "       [0],\n",
              "       [0],\n",
              "       [0],\n",
              "       [0],\n",
              "       [0],\n",
              "       [0],\n",
              "       [0],\n",
              "       [0],\n",
              "       [0],\n",
              "       [0],\n",
              "       [0],\n",
              "       [0],\n",
              "       [0],\n",
              "       [0],\n",
              "       [0],\n",
              "       [0],\n",
              "       [0],\n",
              "       [0],\n",
              "       [0],\n",
              "       [0],\n",
              "       [0],\n",
              "       [0],\n",
              "       [0],\n",
              "       [0],\n",
              "       [0],\n",
              "       [0],\n",
              "       [0],\n",
              "       [0],\n",
              "       [0],\n",
              "       [0],\n",
              "       [0],\n",
              "       [0],\n",
              "       [0],\n",
              "       [0],\n",
              "       [0],\n",
              "       [0],\n",
              "       [0],\n",
              "       [0],\n",
              "       [0],\n",
              "       [0],\n",
              "       [0],\n",
              "       [0],\n",
              "       [0],\n",
              "       [0],\n",
              "       [0],\n",
              "       [0],\n",
              "       [0],\n",
              "       [0],\n",
              "       [0],\n",
              "       [0],\n",
              "       [0],\n",
              "       [0],\n",
              "       [0],\n",
              "       [0],\n",
              "       [0],\n",
              "       [0],\n",
              "       [0],\n",
              "       [0],\n",
              "       [0],\n",
              "       [1],\n",
              "       [1],\n",
              "       [1],\n",
              "       [1],\n",
              "       [1],\n",
              "       [1],\n",
              "       [1],\n",
              "       [1],\n",
              "       [1],\n",
              "       [1],\n",
              "       [1],\n",
              "       [1],\n",
              "       [1],\n",
              "       [1],\n",
              "       [1],\n",
              "       [1],\n",
              "       [1],\n",
              "       [1],\n",
              "       [1],\n",
              "       [1],\n",
              "       [1],\n",
              "       [1],\n",
              "       [1],\n",
              "       [1],\n",
              "       [1],\n",
              "       [1],\n",
              "       [1],\n",
              "       [1],\n",
              "       [1],\n",
              "       [1],\n",
              "       [1],\n",
              "       [1],\n",
              "       [1],\n",
              "       [1],\n",
              "       [1],\n",
              "       [1],\n",
              "       [1],\n",
              "       [1],\n",
              "       [1],\n",
              "       [1],\n",
              "       [1],\n",
              "       [1],\n",
              "       [1],\n",
              "       [1],\n",
              "       [1],\n",
              "       [1],\n",
              "       [1],\n",
              "       [1],\n",
              "       [1],\n",
              "       [1],\n",
              "       [1],\n",
              "       [0],\n",
              "       [0],\n",
              "       [0],\n",
              "       [0],\n",
              "       [0],\n",
              "       [0],\n",
              "       [0],\n",
              "       [0],\n",
              "       [0],\n",
              "       [0],\n",
              "       [0],\n",
              "       [0],\n",
              "       [0],\n",
              "       [0],\n",
              "       [0],\n",
              "       [0],\n",
              "       [0],\n",
              "       [0],\n",
              "       [0],\n",
              "       [0],\n",
              "       [0],\n",
              "       [0],\n",
              "       [0],\n",
              "       [0],\n",
              "       [0],\n",
              "       [0],\n",
              "       [0],\n",
              "       [0],\n",
              "       [0],\n",
              "       [0],\n",
              "       [0],\n",
              "       [0],\n",
              "       [0],\n",
              "       [0],\n",
              "       [0],\n",
              "       [0],\n",
              "       [0],\n",
              "       [0],\n",
              "       [0],\n",
              "       [0],\n",
              "       [0],\n",
              "       [0],\n",
              "       [0],\n",
              "       [0],\n",
              "       [0],\n",
              "       [0],\n",
              "       [0],\n",
              "       [0],\n",
              "       [0],\n",
              "       [0],\n",
              "       [0],\n",
              "       [0],\n",
              "       [0],\n",
              "       [0],\n",
              "       [0],\n",
              "       [0],\n",
              "       [0],\n",
              "       [0],\n",
              "       [0],\n",
              "       [0],\n",
              "       [0],\n",
              "       [0],\n",
              "       [0],\n",
              "       [0],\n",
              "       [0],\n",
              "       [0],\n",
              "       [0],\n",
              "       [0],\n",
              "       [0],\n",
              "       [0],\n",
              "       [0],\n",
              "       [0],\n",
              "       [0],\n",
              "       [0],\n",
              "       [0],\n",
              "       [0],\n",
              "       [0],\n",
              "       [0],\n",
              "       [0],\n",
              "       [0],\n",
              "       [0],\n",
              "       [0],\n",
              "       [0],\n",
              "       [0],\n",
              "       [0],\n",
              "       [0],\n",
              "       [0],\n",
              "       [0],\n",
              "       [0],\n",
              "       [0],\n",
              "       [0],\n",
              "       [0],\n",
              "       [0],\n",
              "       [0],\n",
              "       [0],\n",
              "       [0]], dtype=int8)"
            ]
          },
          "metadata": {},
          "execution_count": 21
        }
      ]
    },
    {
      "cell_type": "code",
      "metadata": {
        "id": "XvaL9FbeBV5c"
      },
      "source": [
        "import keras\n",
        "from keras.applications.resnet import ResNet50\n",
        "from keras.applications.vgg16 import VGG16\n",
        "from keras.applications.vgg19 import VGG19\n",
        "from keras.models import Model\n",
        "from keras.layers import Dense, GlobalAveragePooling2D, Dropout, UpSampling2D, Conv2D, MaxPooling2D, Activation\n",
        "#base_model = ResNet50(weights='imagenet', input_shape=(256,256,3), include_top=False)\n",
        "base_model = VGG16(weights='imagenet', input_shape=(256,256,3), include_top=False)\n",
        "#base_model = VGG19(weights='imagenet', input_shape=(256,256,3), include_top=False)\n",
        "up = UpSampling2D(32, interpolation='bilinear')(base_model.output)\n",
        "conv = Conv2D(1, (1, 1))(up)\n",
        "conv = Activation('sigmoid')(conv)\n",
        "model = Model(base_model.input, conv)"
      ],
      "execution_count": 43,
      "outputs": []
    },
    {
      "cell_type": "code",
      "metadata": {
        "id": "SP7yCMIrCWTr"
      },
      "source": [
        "from tensorflow import keras"
      ],
      "execution_count": 44,
      "outputs": []
    },
    {
      "cell_type": "code",
      "metadata": {
        "colab": {
          "base_uri": "https://localhost:8080/"
        },
        "id": "O9yuaOMOBbST",
        "outputId": "160cff11-f265-4778-b323-cd8b76fab56d"
      },
      "source": [
        "best_w = keras.callbacks.ModelCheckpoint('fcn_best.h5',\n",
        "                                monitor='val_loss',\n",
        "                                verbose=0,\n",
        "                                save_best_only=True,\n",
        "                                save_weights_only=True,\n",
        "                                mode='auto',\n",
        "                                period=1)\n",
        "\n",
        "last_w = keras.callbacks.ModelCheckpoint('fcn_last.h5',\n",
        "                                monitor='val_loss',\n",
        "                                verbose=0,\n",
        "                                save_best_only=False,\n",
        "                                save_weights_only=True,\n",
        "                                mode='auto',\n",
        "                                period=1)\n",
        "\n",
        "callbacks = [best_w, last_w]\n",
        "\n",
        "adam = keras.optimizers.Adam(lr=0.0001, beta_1=0.9, beta_2=0.999, epsilon=1e-08, decay=0.0)\n",
        "\n",
        "model.compile(adam, 'binary_crossentropy')"
      ],
      "execution_count": 45,
      "outputs": [
        {
          "output_type": "stream",
          "name": "stdout",
          "text": [
            "WARNING:tensorflow:`period` argument is deprecated. Please use `save_freq` to specify the frequency in number of batches seen.\n",
            "WARNING:tensorflow:`period` argument is deprecated. Please use `save_freq` to specify the frequency in number of batches seen.\n"
          ]
        },
        {
          "output_type": "stream",
          "name": "stderr",
          "text": [
            "/usr/local/lib/python3.7/dist-packages/keras/optimizer_v2/optimizer_v2.py:356: UserWarning: The `lr` argument is deprecated, use `learning_rate` instead.\n",
            "  \"The `lr` argument is deprecated, use `learning_rate` instead.\")\n"
          ]
        }
      ]
    },
    {
      "cell_type": "code",
      "metadata": {
        "colab": {
          "base_uri": "https://localhost:8080/"
        },
        "id": "J0aHYpZgCK0C",
        "outputId": "80298644-c27b-476c-b1c0-78374bbc249a"
      },
      "source": [
        "batch_size = 16\n",
        "model.fit(keras_generator(df_train, batch_size),\n",
        "              steps_per_epoch=100,\n",
        "              epochs=5,\n",
        "              verbose=1,\n",
        "              callbacks=callbacks,\n",
        "              validation_data=keras_generator(df_val,  batch_size),\n",
        "              validation_steps=50,\n",
        "              class_weight=None,\n",
        "              max_queue_size=10,\n",
        "              workers=1,\n",
        "              use_multiprocessing=False,\n",
        "              shuffle=True,\n",
        "              initial_epoch=0)"
      ],
      "execution_count": 46,
      "outputs": [
        {
          "output_type": "stream",
          "name": "stdout",
          "text": [
            "Epoch 1/5\n",
            "100/100 [==============================] - 101s 1s/step - loss: 0.0596 - val_loss: 0.0581\n",
            "Epoch 2/5\n",
            "100/100 [==============================] - 98s 981ms/step - loss: 0.0273 - val_loss: 0.0681\n",
            "Epoch 3/5\n",
            "100/100 [==============================] - 98s 981ms/step - loss: 0.0255 - val_loss: 0.0771\n",
            "Epoch 4/5\n",
            "100/100 [==============================] - 98s 981ms/step - loss: 0.0249 - val_loss: 0.0796\n",
            "Epoch 5/5\n",
            "100/100 [==============================] - 98s 982ms/step - loss: 0.0237 - val_loss: 0.0852\n"
          ]
        },
        {
          "output_type": "execute_result",
          "data": {
            "text/plain": [
              "<keras.callbacks.History at 0x7fab7c361390>"
            ]
          },
          "metadata": {},
          "execution_count": 46
        }
      ]
    },
    {
      "cell_type": "code",
      "metadata": {
        "id": "3efeEUgVD2L1"
      },
      "source": [
        "pred = model.predict(x)#.shape"
      ],
      "execution_count": 47,
      "outputs": []
    },
    {
      "cell_type": "code",
      "metadata": {
        "colab": {
          "base_uri": "https://localhost:8080/",
          "height": 220
        },
        "id": "EaetdHmpT6jx",
        "outputId": "3ff70f15-e492-4adc-983d-ada2a7b10053"
      },
      "source": [
        "im_id = 0\n",
        "fig, axes = plt.subplots(nrows=1, ncols=3, figsize=(15, 15))\n",
        "axes[0].imshow(x[im_id])\n",
        "axes[1].imshow(pred[im_id, ..., 0] > 0.5)\n",
        "axes[2].imshow(y[im_id, ..., 0])\n",
        "plt.show()"
      ],
      "execution_count": 48,
      "outputs": [
        {
          "output_type": "display_data",
          "data": {
            "image/png": "[encoded data removed]",
            "text/plain": [
              "<Figure size 1080x1080 with 3 Axes>"
            ]
          },
          "metadata": {
            "needs_background": "light"
          }
        }
      ]
    },
    {
      "cell_type": "code",
      "metadata": {
        "id": "qs1oFB4VB2Um"
      },
      "source": [
        "pred_mask=(pred[im_id, ..., 0] > 0.5)*1"
      ],
      "execution_count": 49,
      "outputs": []
    },
    {
      "cell_type": "code",
      "metadata": {
        "id": "3l4ZJctKCPvu"
      },
      "source": [
        "mask=(y[im_id, ..., 0])"
      ],
      "execution_count": 50,
      "outputs": []
    },
    {
      "cell_type": "code",
      "metadata": {
        "id": "B-cM2JxaD-CH"
      },
      "source": [
        "def IoU(mask, pred_mask):\n",
        "    iou = np.sum(mask * pred_mask)/np.sum(mask + pred_mask)\n",
        "    return print(iou)"
      ],
      "execution_count": 51,
      "outputs": []
    },
    {
      "cell_type": "code",
      "metadata": {
        "colab": {
          "base_uri": "https://localhost:8080/"
        },
        "id": "fnKxnACACWTX",
        "outputId": "870cc4c7-6c2e-4194-d95d-f427e3268787"
      },
      "source": [
        "IoU(mask, pred_mask)"
      ],
      "execution_count": 52,
      "outputs": [
        {
          "output_type": "stream",
          "name": "stdout",
          "text": [
            "0.4817642698295033\n"
          ]
        }
      ]
    },
    {
      "cell_type": "code",
      "metadata": {
        "id": "TwASDyLU9JLI"
      },
      "source": [
        "def dice(mask, pred_mask):\n",
        "    dice=(2*np.sum(mask * pred_mask))/(np.sum(mask) + np.sum(pred_mask))\n",
        "    return print(dice)"
      ],
      "execution_count": 53,
      "outputs": []
    },
    {
      "cell_type": "code",
      "metadata": {
        "id": "ymKpM6L49JPM",
        "colab": {
          "base_uri": "https://localhost:8080/"
        },
        "outputId": "8536d8eb-177a-4b39-b2f0-d5cc3ab02efa"
      },
      "source": [
        "dice(mask, pred_mask)"
      ],
      "execution_count": 54,
      "outputs": [
        {
          "output_type": "stream",
          "name": "stdout",
          "text": [
            "0.9635285396590066\n"
          ]
        }
      ]
    },
    {
      "cell_type": "code",
      "metadata": {
        "id": "cm5ZTZ7t9JZD"
      },
      "source": [
        ""
      ],
      "execution_count": null,
      "outputs": []
    },
    {
      "cell_type": "code",
      "metadata": {
        "id": "xLCbXIWOJTXp"
      },
      "source": [
        ""
      ],
      "execution_count": null,
      "outputs": []
    },
    {
      "cell_type": "code",
      "metadata": {
        "id": "XdcmxPnvJUlq"
      },
      "source": [
        ""
      ],
      "execution_count": null,
      "outputs": []
    }
  ]
}